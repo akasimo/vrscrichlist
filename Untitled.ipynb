{
 "cells": [
  {
   "cell_type": "code",
   "execution_count": 1,
   "metadata": {},
   "outputs": [],
   "source": [
    "import pandas as pd\n",
    "import requests, time, pickle, os, time\n",
    "from datetime import datetime\n",
    "import numpy as np"
   ]
  },
  {
   "cell_type": "code",
   "execution_count": 2,
   "metadata": {},
   "outputs": [],
   "source": [
    "def seperate_tag(x):\n",
    "    if \" \" in x:\n",
    "        return x.split(\" \")[0]\n",
    "    else:\n",
    "        return x"
   ]
  },
  {
   "cell_type": "code",
   "execution_count": 3,
   "metadata": {},
   "outputs": [],
   "source": [
    "filename = \"richlist_vrsc.plk\""
   ]
  },
  {
   "cell_type": "code",
   "execution_count": 4,
   "metadata": {},
   "outputs": [],
   "source": [
    "link = \"https://dexstats.info/richlist.php?asset=VRSC\"\n",
    "df = pd.read_html(link)[0]"
   ]
  },
  {
   "cell_type": "code",
   "execution_count": 6,
   "metadata": {},
   "outputs": [],
   "source": [
    "df.drop(\"Detail \", axis = 1, inplace = True)"
   ]
  },
  {
   "cell_type": "code",
   "execution_count": 7,
   "metadata": {
    "scrolled": true
   },
   "outputs": [],
   "source": [
    "columnnames= df.columns.tolist()\n",
    "for i in range(len(columnnames)):\n",
    "    if columnnames[i][-1]==\" \":\n",
    "        columnnames[i]  = columnnames[i][:-1]\n",
    "df.columns = columnnames"
   ]
  },
  {
   "cell_type": "code",
   "execution_count": 8,
   "metadata": {},
   "outputs": [],
   "source": [
    "df[\"Address\"] = df[\"Address\"].apply(lambda x : seperate_tag(x))\n",
    "df[\"Date\"] = datetime.now()"
   ]
  },
  {
   "cell_type": "code",
   "execution_count": 9,
   "metadata": {},
   "outputs": [
    {
     "name": "stdout",
     "output_type": "stream",
     "text": [
      "creating blank df main\n"
     ]
    }
   ],
   "source": [
    "if filename not in os.listdir():\n",
    "    print (\"creating blank df main\")\n",
    "    df_main = pd.DataFrame(columns=df.columns.tolist())\n",
    "else:\n",
    "    print(\"loading historical\")\n",
    "    df_main = pd.read_pickle(filename)"
   ]
  },
  {
   "cell_type": "code",
   "execution_count": 10,
   "metadata": {
    "scrolled": false
   },
   "outputs": [],
   "source": [
    "df_merged = pd.concat([df_main, df])"
   ]
  },
  {
   "cell_type": "code",
   "execution_count": 11,
   "metadata": {},
   "outputs": [],
   "source": [
    "checkdates = df_merged.Date.unique().tolist()\n",
    "checkdates.sort()"
   ]
  },
  {
   "cell_type": "code",
   "execution_count": null,
   "metadata": {},
   "outputs": [],
   "source": []
  },
  {
   "cell_type": "code",
   "execution_count": 12,
   "metadata": {},
   "outputs": [],
   "source": [
    "def coinsum(dataframe, epoch, rank=100):\n",
    "    return dataframe[(dataframe.Date.apply(lambda x: x.strftime('%Y-%m-%d %H:%M:%S'))==datetime.utcfromtimestamp(int(epoch/1000000000)).strftime('%Y-%m-%d %H:%M:%S')) & (dataframe.Rank <= rank)].Balance.sum()"
   ]
  },
  {
   "cell_type": "code",
   "execution_count": 14,
   "metadata": {},
   "outputs": [],
   "source": [
    "# coinsum(df_merged, checkdates[-1], rank=100)/coinsum(df_merged, checkdates[-2], rank=100)"
   ]
  },
  {
   "cell_type": "code",
   "execution_count": null,
   "metadata": {},
   "outputs": [],
   "source": []
  },
  {
   "cell_type": "code",
   "execution_count": 15,
   "metadata": {},
   "outputs": [],
   "source": [
    "df_merged.to_pickle(filename) "
   ]
  },
  {
   "cell_type": "code",
   "execution_count": null,
   "metadata": {},
   "outputs": [],
   "source": []
  }
 ],
 "metadata": {
  "kernelspec": {
   "display_name": "Python 3",
   "language": "python",
   "name": "python3"
  },
  "language_info": {
   "codemirror_mode": {
    "name": "ipython",
    "version": 3
   },
   "file_extension": ".py",
   "mimetype": "text/x-python",
   "name": "python",
   "nbconvert_exporter": "python",
   "pygments_lexer": "ipython3",
   "version": "3.6.4"
  }
 },
 "nbformat": 4,
 "nbformat_minor": 2
}
