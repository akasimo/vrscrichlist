{
 "cells": [
  {
   "cell_type": "code",
   "execution_count": 172,
   "metadata": {},
   "outputs": [],
   "source": [
    "import pandas as pd\n",
    "import requests, time, pickle, os, time\n",
    "from datetime import datetime\n",
    "import numpy as np"
   ]
  },
  {
   "cell_type": "code",
   "execution_count": 130,
   "metadata": {},
   "outputs": [],
   "source": [
    "def seperate_tag(x):\n",
    "    if \" \" in x:\n",
    "        return x.split(\" \")[0]\n",
    "    else:\n",
    "        return x"
   ]
  },
  {
   "cell_type": "code",
   "execution_count": 131,
   "metadata": {},
   "outputs": [],
   "source": [
    "filename = \"richlist_vrsc.plk\""
   ]
  },
  {
   "cell_type": "code",
   "execution_count": 132,
   "metadata": {},
   "outputs": [],
   "source": [
    "link = \"https://dexstats.info/richlist.php?asset=VRSC\"\n",
    "df = pd.read_html(link)[0]"
   ]
  },
  {
   "cell_type": "code",
   "execution_count": 244,
   "metadata": {},
   "outputs": [],
   "source": [
    "df.drop(\"Detail\", axis = 1, inplace = True)"
   ]
  },
  {
   "cell_type": "code",
   "execution_count": 133,
   "metadata": {
    "scrolled": true
   },
   "outputs": [
    {
     "name": "stdout",
     "output_type": "stream",
     "text": [
      "Rank  0\n",
      "Rank 1\n",
      "Balance  0\n",
      "Balance 1\n",
      "Address  0\n",
      "Address 1\n",
      "Detail  0\n",
      "Detail 1\n"
     ]
    }
   ],
   "source": [
    "columnnames= df.columns.tolist()\n",
    "for i in range(len(columnnames)):\n",
    "    if columnnames[i][-1]==\" \":\n",
    "        columnnames[i]  = columnnames[i][:-1]\n",
    "df.columns = columnnames"
   ]
  },
  {
   "cell_type": "code",
   "execution_count": 134,
   "metadata": {},
   "outputs": [],
   "source": [
    "df[\"Address\"] = df[\"Address\"].apply(lambda x : seperate_tag(x))"
   ]
  },
  {
   "cell_type": "code",
   "execution_count": 135,
   "metadata": {},
   "outputs": [],
   "source": [
    "df[\"Date\"] = datetime.now()"
   ]
  },
  {
   "cell_type": "code",
   "execution_count": 136,
   "metadata": {},
   "outputs": [
    {
     "name": "stdout",
     "output_type": "stream",
     "text": [
      "loading historical\n"
     ]
    }
   ],
   "source": [
    "if filename not in os.listdir():\n",
    "    print (\"creating blank df main\")\n",
    "    df_main = pd.DataFrame(columns=df.columns.tolist())\n",
    "else:\n",
    "    print(\"loading historical\")\n",
    "    df_main = pd.read_pickle(filename)"
   ]
  },
  {
   "cell_type": "code",
   "execution_count": 137,
   "metadata": {
    "scrolled": false
   },
   "outputs": [],
   "source": [
    "df_merged = pd.concat([df_main, df])"
   ]
  },
  {
   "cell_type": "code",
   "execution_count": 139,
   "metadata": {},
   "outputs": [],
   "source": [
    "checkdates = df_merged.Date.unique().tolist()\n",
    "checkdates.sort()"
   ]
  },
  {
   "cell_type": "code",
   "execution_count": 128,
   "metadata": {},
   "outputs": [],
   "source": []
  },
  {
   "cell_type": "code",
   "execution_count": 255,
   "metadata": {},
   "outputs": [],
   "source": [
    "def coinsum(dataframe, epoch, rank=100):\n",
    "    return dataframe[(dataframe.Date.apply(lambda x: x.strftime('%Y-%m-%d %H:%M:%S'))==datetime.utcfromtimestamp(int(epoch/1000000000)).strftime('%Y-%m-%d %H:%M:%S')) & (dataframe.Rank <= rank)].Balance.sum()"
   ]
  },
  {
   "cell_type": "code",
   "execution_count": 261,
   "metadata": {},
   "outputs": [
    {
     "data": {
      "text/plain": [
       "1.0003149890002532"
      ]
     },
     "execution_count": 261,
     "metadata": {},
     "output_type": "execute_result"
    }
   ],
   "source": [
    "coinsum(df_merged, checkdates[-1], rank=100)/coinsum(df_merged, checkdates[-2], rank=100)"
   ]
  },
  {
   "cell_type": "code",
   "execution_count": null,
   "metadata": {},
   "outputs": [],
   "source": []
  },
  {
   "cell_type": "code",
   "execution_count": null,
   "metadata": {},
   "outputs": [],
   "source": [
    "df_merged.to_pickle(filename) "
   ]
  }
 ],
 "metadata": {
  "kernelspec": {
   "display_name": "Python 3",
   "language": "python",
   "name": "python3"
  },
  "language_info": {
   "codemirror_mode": {
    "name": "ipython",
    "version": 3
   },
   "file_extension": ".py",
   "mimetype": "text/x-python",
   "name": "python",
   "nbconvert_exporter": "python",
   "pygments_lexer": "ipython3",
   "version": "3.6.4"
  }
 },
 "nbformat": 4,
 "nbformat_minor": 2
}
